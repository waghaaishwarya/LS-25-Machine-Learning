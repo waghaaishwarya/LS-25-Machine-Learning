{
 "cells": [
  {
   "cell_type": "markdown",
   "id": "8d7b08f1-d3a8-40a7-885b-ba786dff9357",
   "metadata": {},
   "source": [
    "## problem 1"
   ]
  },
  {
   "cell_type": "code",
   "execution_count": 2,
   "id": "2aa7e024-c53d-472a-b180-58b5289954eb",
   "metadata": {},
   "outputs": [],
   "source": [
    "import numpy as np\n",
    "import random"
   ]
  },
  {
   "cell_type": "code",
   "execution_count": 2,
   "id": "8523d8f3-a4a6-4fce-8bac-8e4e9133984e",
   "metadata": {},
   "outputs": [],
   "source": [
    "np.random.seed(42)\n",
    "random.seed(42)"
   ]
  },
  {
   "cell_type": "code",
   "execution_count": 3,
   "id": "d5d3b083-a373-4e2e-afaa-b9d96ab3a02d",
   "metadata": {},
   "outputs": [
    {
     "name": "stdout",
     "output_type": "stream",
     "text": [
      "[[39 29 15 43]\n",
      " [ 8 21 39 19]\n",
      " [23 11 11 24]\n",
      " [36 40 24  3]\n",
      " [22  2 24 44]]\n"
     ]
    }
   ],
   "source": [
    "a = np.random.randint(1,51 ,size=(5, 4))\n",
    "print(a)"
   ]
  },
  {
   "cell_type": "markdown",
   "id": "8835e5e1-17d0-486e-9962-da92576709ba",
   "metadata": {},
   "source": [
    "#### printing anti-diagonal elements"
   ]
  },
  {
   "cell_type": "code",
   "execution_count": 8,
   "id": "334dbd9f-d7fc-492b-9442-4986152c09c6",
   "metadata": {},
   "outputs": [
    {
     "name": "stdout",
     "output_type": "stream",
     "text": [
      "anti-diagonal elements: [43, 39, 11, 36]\n"
     ]
    }
   ],
   "source": [
    "anti_dia = []\n",
    "for i in range(5):\n",
    "   col = 3 -i\n",
    "   if col >= 0:\n",
    "      anti_dia.append(a[i, col])\n",
    "\n",
    "print(f\"anti-diagonal elements: {anti_dia}\")\n",
    "                   "
   ]
  },
  {
   "cell_type": "markdown",
   "id": "7557d469-c7a2-45d9-a0f3-41fb80820238",
   "metadata": {},
   "source": [
    "#### finding max in each row"
   ]
  },
  {
   "cell_type": "code",
   "execution_count": 9,
   "id": "4ddff5af-d316-438d-a4f5-950b7247b605",
   "metadata": {},
   "outputs": [
    {
     "name": "stdout",
     "output_type": "stream",
     "text": [
      "maximum values: [43, 39, 24, 40, 44]\n"
     ]
    }
   ],
   "source": [
    "row_max = []\n",
    "for i in range(5):\n",
    "    max_in_row = max(a[i])\n",
    "    row_max.append(max_in_row)\n",
    "\n",
    "print(f\"maximum values: {row_max}\")"
   ]
  },
  {
   "cell_type": "markdown",
   "id": "d97f3882-1180-4641-82cc-0c4ecc29bcf7",
   "metadata": {},
   "source": [
    "#### finding elements less than or equal to overall average"
   ]
  },
  {
   "cell_type": "code",
   "execution_count": 10,
   "id": "ca12891e-c4ca-4fa2-837f-331509fe8173",
   "metadata": {},
   "outputs": [
    {
     "name": "stdout",
     "output_type": "stream",
     "text": [
      "overall average: 23.85\n"
     ]
    }
   ],
   "source": [
    "all_nums = a.flatten() # making 2d array into 1d\n",
    "overall_mean = sum(all_nums) / len(all_nums)\n",
    "print(f\"overall average: {overall_mean:.2f}\")"
   ]
  },
  {
   "cell_type": "code",
   "execution_count": 11,
   "id": "0ad6f42b-03a0-48b0-b051-d936b70debf8",
   "metadata": {},
   "outputs": [
    {
     "name": "stdout",
     "output_type": "stream",
     "text": [
      " elements <= avg : [15, 8, 21, 19, 23, 11, 11, 3, 22, 2]\n"
     ]
    }
   ],
   "source": [
    "ele_below_mean = []\n",
    "for num in all_nums:\n",
    "    if num <= overall_mean:\n",
    "        ele_below_mean.append(num)\n",
    "\n",
    "print(f\" elements <= avg : {ele_below_mean}\")"
   ]
  },
  {
   "cell_type": "markdown",
   "id": "8272ee69-5aa4-420d-9550-2b1c49c6caf2",
   "metadata": {},
   "source": [
    "#### function numpy_boundary_traversal(matrix)"
   ]
  },
  {
   "cell_type": "code",
   "execution_count": 23,
   "id": "72b3b5fd-a8df-41a4-8996-6ada415f8017",
   "metadata": {},
   "outputs": [],
   "source": [
    "def numpy_boundary_traversal(matrix):\n",
    "    rows, cols = matrix.shape\n",
    "    result = []\n",
    "    for j in range(cols): # L -> R (across the top row)\n",
    "        result.append(matrix[0, j])\n",
    "        print(f\"added: {matrix[0, j]}\") \n",
    "        \n",
    "    for i in range(1, rows): # down the right side, skipping top corner\n",
    "        result.append(matrix[i, cols-1])\n",
    "        print(f\"added: {matrix[i, cols-1]}\")\n",
    "        \n",
    "    if rows>1: # accross bottom row (R -> L), only if we have more than 1 row\n",
    "        for j in range(cols-2, -1, -1):\n",
    "            result.append(matrix[rows-1, j])\n",
    "            print(f\"added: {matrix[rows-1, j]}\")\n",
    "            \n",
    "    if cols>1: # left side, skipping corners, only if we have more than 1 column\n",
    "        for i in range(rows-2, 0, -1):\n",
    "            result.append(matrix[i, 0])\n",
    "            print(f\"added: {matrix[i,0]}\")\n",
    "            \n",
    "    return result"
   ]
  },
  {
   "cell_type": "code",
   "execution_count": 24,
   "id": "bdcfdbbb-1fa0-4a0e-a5da-354c84ad3952",
   "metadata": {},
   "outputs": [
    {
     "name": "stdout",
     "output_type": "stream",
     "text": [
      "tracing boundary of array:\n",
      "added: 39\n",
      "added: 29\n",
      "added: 15\n",
      "added: 43\n",
      "added: 19\n",
      "added: 24\n",
      "added: 3\n",
      "added: 44\n",
      "added: 24\n",
      "added: 2\n",
      "added: 22\n",
      "added: 36\n",
      "added: 23\n",
      "added: 8\n",
      "boundary path: [39, 29, 15, 43, 19, 24, 3, 44, 24, 2, 22, 36, 23, 8]\n"
     ]
    }
   ],
   "source": [
    "print(\"tracing boundary of array:\")\n",
    "boundary_elements = numpy_boundary_traversal(a)\n",
    "print(f\"boundary path: {boundary_elements}\")"
   ]
  },
  {
   "cell_type": "markdown",
   "id": "72ebddb2-f983-42d2-a150-5399583ea77b",
   "metadata": {},
   "source": [
    "## problem 2"
   ]
  },
  {
   "cell_type": "code",
   "execution_count": 25,
   "id": "cb367aef-ebc7-4fa6-8189-12646891e59a",
   "metadata": {},
   "outputs": [
    {
     "name": "stdout",
     "output_type": "stream",
     "text": [
      "[9.38552709e+00 7.78765841e-03 9.92211559e+00 6.17481510e+00\n",
      " 6.11653160e+00 7.06630522e-02 2.30624250e-01 5.24774660e+00\n",
      " 3.99860972e+00 4.66656632e-01 9.73755519e+00 2.32771340e+00\n",
      " 9.06064345e-01 6.18386009e+00 3.82461991e+00 9.83230886e+00\n",
      " 4.66762893e+00 8.59940407e+00 6.80307539e+00 4.50499252e+00]\n"
     ]
    }
   ],
   "source": [
    "b = np.random.uniform(0, 10, size=20)\n",
    "print(b)"
   ]
  },
  {
   "cell_type": "markdown",
   "id": "aa586e16-0b89-4ebc-aa0b-169ddb465c62",
   "metadata": {},
   "source": [
    "#### round all to 2 decimal places"
   ]
  },
  {
   "cell_type": "code",
   "execution_count": 28,
   "id": "e2123257-7e1c-459f-b3c2-2d22d9fe08d4",
   "metadata": {},
   "outputs": [
    {
     "name": "stdout",
     "output_type": "stream",
     "text": [
      "[9.39 0.01 9.92 6.17 6.12 0.07 0.23 5.25 4.   0.47 9.74 2.33 0.91 6.18\n",
      " 3.82 9.83 4.67 8.6  6.8  4.5 ]\n"
     ]
    }
   ],
   "source": [
    "rounded_b = np.round(b, 2)\n",
    "print(rounded_b)"
   ]
  },
  {
   "cell_type": "markdown",
   "id": "611e12a1-7a1e-4f04-8819-5731dfb53266",
   "metadata": {},
   "source": [
    "#### find min, max, and median"
   ]
  },
  {
   "cell_type": "code",
   "execution_count": 29,
   "id": "23cf1135-3697-41f4-8c23-b24734b2314c",
   "metadata": {},
   "outputs": [],
   "source": [
    "min_val = min(rounded_b)\n",
    "max_val = max(rounded_b)\n",
    "sorted_b = sorted(rounded_b)\n",
    "median_val = sorted_b[len(sorted_b)//2]"
   ]
  },
  {
   "cell_type": "code",
   "execution_count": 30,
   "id": "f3be3f91-0ede-4974-8464-42ca762091cf",
   "metadata": {},
   "outputs": [
    {
     "name": "stdout",
     "output_type": "stream",
     "text": [
      "minimum: 0.01\n",
      "maximum: 9.92\n",
      "median: 5.25\n"
     ]
    }
   ],
   "source": [
    "print(f\"minimum: {min_val}\")\n",
    "print(f\"maximum: {max_val}\")\n",
    "print(f\"median: {median_val}\")"
   ]
  },
  {
   "cell_type": "markdown",
   "id": "f460e3dd-984e-4164-ba14-b6c78c1c923a",
   "metadata": {},
   "source": [
    "#### replace nums less than 5 with their squares"
   ]
  },
  {
   "cell_type": "code",
   "execution_count": 36,
   "id": "3c159ed0-811e-42a7-a2ba-63a67bbf617d",
   "metadata": {},
   "outputs": [],
   "source": [
    "modified_arr = rounded_b.copy()"
   ]
  },
  {
   "cell_type": "code",
   "execution_count": 37,
   "id": "7a9d3be4-fd21-4a7a-b065-4952cc022253",
   "metadata": {},
   "outputs": [
    {
     "name": "stdout",
     "output_type": "stream",
     "text": [
      "modified array: [9.39000e+00 1.00000e-04 9.92000e+00 6.17000e+00 6.12000e+00 4.90000e-03\n",
      " 5.29000e-02 5.25000e+00 1.60000e+01 2.20900e-01 9.74000e+00 5.42890e+00\n",
      " 8.28100e-01 6.18000e+00 1.45924e+01 9.83000e+00 2.18089e+01 8.60000e+00\n",
      " 6.80000e+00 2.02500e+01]\n"
     ]
    }
   ],
   "source": [
    "for i in range(len(modified_arr)):\n",
    "    if modified_arr[i] < 5:\n",
    "        old_val = modified_arr[i]\n",
    "        modified_arr[i] = old_val ** 2\n",
    "\n",
    "print(f\"modified array: {modified_arr}\")     "
   ]
  },
  {
   "cell_type": "markdown",
   "id": "c13892ec-d1e7-4872-9f1c-ebdc3cffd7fb",
   "metadata": {},
   "source": [
    "####  function numpy_alternate_sort(array)"
   ]
  },
  {
   "cell_type": "code",
   "execution_count": 38,
   "id": "744d9fca-b477-482f-94f9-cc294130d40e",
   "metadata": {},
   "outputs": [],
   "source": [
    "def numpy_alternate_sort(array):\n",
    "    sorted_arr = sorted(array)\n",
    "    result = []\n",
    "    \n",
    "    left = 0 # points to smallest remaining\n",
    "    right = len(sorted_arr) - 1 # points to largest remaining \n",
    "    \n",
    "    while left <= right:\n",
    "        if len(result) % 2==0: # even positions get small nos\n",
    "            print(f\"position {len(result)-1}: added smallest remaining = {sorted_arr[left]}\")\n",
    "            left += 1\n",
    "        else: # odd ones get large nos\n",
    "            result.append(sorted_arr[right])\n",
    "            print(f\"Position {len(result)-1}: Added largest remaining = {sorted_arr[right]}\")\n",
    "            right -= 1\n",
    "            \n",
    "    return np.array(result)"
   ]
  },
  {
   "cell_type": "code",
   "execution_count": 42,
   "id": "1c1b7809-9602-4467-ae63-3fc559cb5f4d",
   "metadata": {},
   "outputs": [
    {
     "name": "stdout",
     "output_type": "stream",
     "text": [
      "position -1: added smallest remaining = 0.01\n",
      "position -1: added smallest remaining = 0.07\n",
      "position -1: added smallest remaining = 0.23\n",
      "position -1: added smallest remaining = 0.47\n",
      "position -1: added smallest remaining = 0.91\n",
      "position -1: added smallest remaining = 2.33\n",
      "position -1: added smallest remaining = 3.82\n",
      "position -1: added smallest remaining = 4.0\n",
      "position -1: added smallest remaining = 4.5\n",
      "position -1: added smallest remaining = 4.67\n",
      "position -1: added smallest remaining = 5.25\n",
      "position -1: added smallest remaining = 6.12\n",
      "position -1: added smallest remaining = 6.17\n",
      "position -1: added smallest remaining = 6.18\n",
      "position -1: added smallest remaining = 6.8\n",
      "position -1: added smallest remaining = 8.6\n",
      "position -1: added smallest remaining = 9.39\n",
      "position -1: added smallest remaining = 9.74\n",
      "position -1: added smallest remaining = 9.83\n",
      "position -1: added smallest remaining = 9.92\n",
      " alternating sorted result: []\n"
     ]
    }
   ],
   "source": [
    "alt_sorted = numpy_alternate_sort(rounded_b)\n",
    "print(f\" alternating sorted result: {alt_sorted}\")"
   ]
  },
  {
   "cell_type": "code",
   "execution_count": 43,
   "id": "3beee789-1f51-4fb6-8fce-bb4709cb5f7c",
   "metadata": {},
   "outputs": [],
   "source": [
    "## redo the above one"
   ]
  },
  {
   "cell_type": "markdown",
   "id": "5b510391-4fd3-4d61-9a5f-28dd1032263c",
   "metadata": {},
   "source": [
    "## problem 3"
   ]
  },
  {
   "cell_type": "code",
   "execution_count": 3,
   "id": "53e4652b-0d39-42b0-bfcf-d4a4ca3b2474",
   "metadata": {},
   "outputs": [],
   "source": [
    "import pandas as pd"
   ]
  },
  {
   "cell_type": "markdown",
   "id": "b66b488e-6778-4e91-a3ad-08f712c9742e",
   "metadata": {},
   "source": [
    "#### creating student data"
   ]
  },
  {
   "cell_type": "code",
   "execution_count": 46,
   "id": "b6c4c6c2-5685-43e2-9ffa-8a692dbe61aa",
   "metadata": {},
   "outputs": [],
   "source": [
    "names = ['anya', 'loid', 'yor', 'damian', 'yuki', 'frankie', 'sylvia', 'fiona', 'becky', 'henry']\n",
    "subjects = ['maths', 'science', 'english', 'social science', 'german']"
   ]
  },
  {
   "cell_type": "code",
   "execution_count": 47,
   "id": "c64078a0-e7aa-43b5-bd7e-23862a68708d",
   "metadata": {},
   "outputs": [],
   "source": [
    "students_data = []\n",
    "for name in names:\n",
    "    subject = random.choice(subjects)\n",
    "    score = random.randint(50, 100)\n",
    "    students_data.append({\n",
    "    'name': name,\n",
    "    'subject': subject,\n",
    "    'score': score,\n",
    "    'grade': ''\n",
    "    })"
   ]
  },
  {
   "cell_type": "code",
   "execution_count": 48,
   "id": "5fbd99b1-e252-4921-84d7-bdcf858f9e65",
   "metadata": {},
   "outputs": [
    {
     "name": "stdout",
     "output_type": "stream",
     "text": [
      "student records:\n",
      "      name  subject  score grade\n",
      "0     anya    maths     51      \n",
      "1     loid  english     65      \n",
      "2      yor  science     58      \n",
      "3   damian    maths     93      \n",
      "4     yuki   german     55      \n",
      "5  frankie   german     77      \n",
      "6   sylvia    maths     51      \n",
      "7    fiona    maths     63      \n",
      "8    becky  science     82      \n",
      "9    henry   german     51      \n"
     ]
    }
   ],
   "source": [
    "df_students = pd.DataFrame(students_data)\n",
    "print(\"student records:\")\n",
    "print(df_students)"
   ]
  },
  {
   "cell_type": "markdown",
   "id": "f63d9d67-094a-458c-8d36-c2485134497c",
   "metadata": {},
   "source": [
    "#### assigning grades based on scores"
   ]
  },
  {
   "cell_type": "code",
   "execution_count": 49,
   "id": "5857740b-8b91-4e69-b1c7-002618f107e4",
   "metadata": {},
   "outputs": [],
   "source": [
    "def assign_grade(score):\n",
    "    if score >= 90:\n",
    "        return 'A'\n",
    "    elif score >= 80:\n",
    "        return 'B'\n",
    "    elif score >= 70:\n",
    "        return 'C'\n",
    "    elif score >= 60:\n",
    "        return 'D'\n",
    "    else:\n",
    "        return 'F'"
   ]
  },
  {
   "cell_type": "code",
   "execution_count": 51,
   "id": "5256bef5-a1d3-4210-9be9-0171a435f9cf",
   "metadata": {},
   "outputs": [
    {
     "name": "stdout",
     "output_type": "stream",
     "text": [
      "anya: 51 -> F\n",
      "loid: 65 -> D\n",
      "yor: 58 -> F\n",
      "damian: 93 -> A\n",
      "yuki: 55 -> F\n",
      "frankie: 77 -> C\n",
      "sylvia: 51 -> F\n",
      "fiona: 63 -> D\n",
      "becky: 82 -> B\n",
      "henry: 51 -> F\n"
     ]
    }
   ],
   "source": [
    "for i in range(len(df_students)):\n",
    "    score = df_students.iloc[i]['score']\n",
    "    grade = assign_grade(score)\n",
    "    df_students.iloc[i, df_students.columns.get_loc('grade')] = grade\n",
    "    print(f\"{df_students.iloc[i]['name']}: {score} -> {grade}\")"
   ]
  },
  {
   "cell_type": "markdown",
   "id": "a21d79a5-010f-4c95-aa46-00323f38bb87",
   "metadata": {},
   "source": [
    "#### sort by score "
   ]
  },
  {
   "cell_type": "code",
   "execution_count": 52,
   "id": "4b95cdc8-10fa-4299-919a-6031a875b1ca",
   "metadata": {},
   "outputs": [
    {
     "name": "stdout",
     "output_type": "stream",
     "text": [
      "sorting by score (highest first):\n",
      "      name  subject  score grade\n",
      "3   damian    maths     93     A\n",
      "8    becky  science     82     B\n",
      "5  frankie   german     77     C\n",
      "1     loid  english     65     D\n",
      "7    fiona    maths     63     D\n",
      "2      yor  science     58     F\n",
      "4     yuki   german     55     F\n",
      "0     anya    maths     51     F\n",
      "6   sylvia    maths     51     F\n",
      "9    henry   german     51     F\n"
     ]
    }
   ],
   "source": [
    "print(\"sorting by score (highest first):\")\n",
    "df_sorted = df_students.sort_values('score', ascending=False)\n",
    "print(df_sorted)"
   ]
  },
  {
   "cell_type": "markdown",
   "id": "83989ef0-db27-435e-be71-ebdc47deadac",
   "metadata": {},
   "source": [
    "#### average score for each subject"
   ]
  },
  {
   "cell_type": "code",
   "execution_count": 55,
   "id": "ee780791-f6d6-4425-81d6-8691a0450ddc",
   "metadata": {},
   "outputs": [
    {
     "name": "stdout",
     "output_type": "stream",
     "text": [
      "maths: 64.5\n",
      "science: 70.0\n",
      "english: 65.0\n",
      "german: 61.0\n"
     ]
    }
   ],
   "source": [
    "subjects_average = {}\n",
    "for subject in subjects:\n",
    "    subject_data = df_students[df_students['subject'] == subject]\n",
    "    if len(subject_data) >0:\n",
    "        avg_score = subject_data['score'].mean()\n",
    "        subjects_average[subject] = avg_score\n",
    "        print(f\"{subject}: {avg_score:.1f}\")"
   ]
  },
  {
   "cell_type": "markdown",
   "id": "2dc699a5-4cf1-416d-be3f-e053dcc468cc",
   "metadata": {},
   "source": [
    "#### function pandas_filter_pass(dataframe)"
   ]
  },
  {
   "cell_type": "code",
   "execution_count": 56,
   "id": "a3a23bbb-f161-4d22-a0ca-c5bf8106754b",
   "metadata": {},
   "outputs": [],
   "source": [
    "def pandas_filter_pass(dataframe):\n",
    "    \n",
    "    passed_students = dataframe[dataframe['grade'].isin(['A', 'B'])]\n",
    "    return passed_students"
   ]
  },
  {
   "cell_type": "code",
   "execution_count": 57,
   "id": "7b2fdea2-8bdd-4747-bd90-0734f03b4eb9",
   "metadata": {},
   "outputs": [
    {
     "name": "stdout",
     "output_type": "stream",
     "text": [
      "students with A or B grades:\n",
      "     name  subject  score grade\n",
      "3  damian    maths     93     A\n",
      "8   becky  science     82     B\n"
     ]
    }
   ],
   "source": [
    "passed_students = pandas_filter_pass(df_students)\n",
    "print(\"students with A or B grades:\")\n",
    "print(passed_students)"
   ]
  },
  {
   "cell_type": "markdown",
   "id": "0ed8c4cb-b4cc-4dab-a048-d6d076e39231",
   "metadata": {},
   "source": [
    "## problem 4"
   ]
  },
  {
   "cell_type": "code",
   "execution_count": 1,
   "id": "7020544c-1454-42f0-b965-85ad56a0fb4d",
   "metadata": {},
   "outputs": [],
   "source": [
    "from sklearn.feature_extraction.text import CountVectorizer, TfidfVectorizer\n",
    "from sklearn.model_selection import train_test_split\n",
    "from sklearn.naive_bayes import MultinomialNB\n",
    "from sklearn.linear_model import LogisticRegression\n",
    "from sklearn.metrics import accuracy_score, precision_score, recall_score, f1_score"
   ]
  },
  {
   "cell_type": "code",
   "execution_count": 4,
   "id": "4c5150ad-b13d-4435-94ca-76c35af64fdb",
   "metadata": {},
   "outputs": [],
   "source": [
    "# simple movie reviews:"
   ]
  },
  {
   "cell_type": "code",
   "execution_count": 5,
   "id": "5cf47d23-bd73-4d3a-9945-63c33cc79665",
   "metadata": {},
   "outputs": [],
   "source": [
    "positive_reviews = [\"great movie loved it\", \"amazing film wonderful\", \"excellent story fantastic\",\n",
    "    \"brilliant acting superb\", \"perfect movie amazing\", \"outstanding film great\",\n",
    "    \"wonderful story excellent\", \"fantastic acting brilliant\", \"incredible movie perfect\",\n",
    "    \"superb film outstanding\", \"amazing story wonderful\", \"excellent movie fantastic\",\n",
    "    \"great acting brilliant\", \"perfect film incredible\", \"wonderful movie superb\",\n",
    "    \"outstanding story amazing\", \"fantastic film excellent\", \"brilliant movie great\",\n",
    "    \"incredible acting perfect\", \"superb story wonderful\", \"great film amazing\",\n",
    "    \"excellent acting fantastic\", \"wonderful film brilliant\", \"amazing movie incredible\",\n",
    "    \"perfect story superb\"] * 2"
   ]
  },
  {
   "cell_type": "code",
   "execution_count": 18,
   "id": "dc7902b3-8157-4137-a48c-4ffa37a53003",
   "metadata": {},
   "outputs": [],
   "source": [
    "negative_reviews = [\n",
    "    \"terrible movie awful\", \"horrible film bad\", \"poor story terrible\",\n",
    "    \"awful acting horrible\", \"worst movie terrible\", \"bad film poor\",\n",
    "    \"horrible story awful\", \"terrible acting bad\", \"poor movie worst\",\n",
    "    \"awful film horrible\", \"bad story terrible\", \"poor acting awful\",\n",
    "    \"terrible film horrible\", \"worst story bad\", \"horrible movie poor\",\n",
    "    \"awful story terrible\", \"bad film horrible\", \"poor movie awful\",\n",
    "    \"terrible acting worst\", \"horrible story bad\", \"awful movie poor\",\n",
    "    \"bad acting terrible\", \"poor film horrible\", \"terrible story awful\",\n",
    "    \"horrible acting bad\"\n",
    "] * 2"
   ]
  },
  {
   "cell_type": "code",
   "execution_count": 20,
   "id": "dce07997-89b8-4944-9973-a77deee92074",
   "metadata": {},
   "outputs": [],
   "source": [
    "all_reviews = positive_reviews + negative_reviews # combine reviews\n",
    "all_sentiments = ['positive']* 50 + ['negative']* 50"
   ]
  },
  {
   "cell_type": "code",
   "execution_count": 21,
   "id": "42899fae-ecca-4f2e-a20c-d908d42f91ce",
   "metadata": {},
   "outputs": [],
   "source": [
    "df_reviews = pd.DataFrame({\n",
    "    'review': all_reviews,\n",
    "    'sentiment': all_sentiments\n",
    "})"
   ]
  },
  {
   "cell_type": "code",
   "execution_count": 22,
   "id": "21001ea0-e007-468f-96c4-454cf5b1ab74",
   "metadata": {},
   "outputs": [
    {
     "name": "stdout",
     "output_type": "stream",
     "text": [
      "                       review sentiment\n",
      "0        great movie loved it  positive\n",
      "1      amazing film wonderful  positive\n",
      "2   excellent story fantastic  positive\n",
      "3     brilliant acting superb  positive\n",
      "4       perfect movie amazing  positive\n",
      "5      outstanding film great  positive\n",
      "6   wonderful story excellent  positive\n",
      "7  fantastic acting brilliant  positive\n",
      "8    incredible movie perfect  positive\n",
      "9     superb film outstanding  positive\n"
     ]
    }
   ],
   "source": [
    "print(df_reviews.head(10))"
   ]
  },
  {
   "cell_type": "code",
   "execution_count": 23,
   "id": "86414cdc-d129-4625-b751-fe8070302926",
   "metadata": {},
   "outputs": [],
   "source": [
    "#  Tokenize the reviews using CountVectorizer with a maximum of 500 features,\n",
    "# removing stop words"
   ]
  },
  {
   "cell_type": "code",
   "execution_count": 43,
   "id": "bab19072-7b95-4f02-bc0f-4035646d1473",
   "metadata": {},
   "outputs": [],
   "source": [
    "vectorizer =  CountVectorizer(max_features= 500, stop_words='english')\n",
    "X = vectorizer.fit_transform(df_reviews['review'])\n",
    "y = df_reviews['sentiment']"
   ]
  },
  {
   "cell_type": "code",
   "execution_count": 44,
   "id": "928cbf2f-3b90-4445-90d6-4d215475e068",
   "metadata": {},
   "outputs": [
    {
     "name": "stdout",
     "output_type": "stream",
     "text": [
      "Converted 100 reviews into 21 features\n"
     ]
    }
   ],
   "source": [
    "print(f\"Converted {len(df_reviews)} reviews into {X.shape[1]} features\")"
   ]
  },
  {
   "cell_type": "code",
   "execution_count": 45,
   "id": "a667859c-efbc-4d0e-a7a1-47ac59498418",
   "metadata": {},
   "outputs": [],
   "source": [
    "# split data into trainign and testing"
   ]
  },
  {
   "cell_type": "code",
   "execution_count": 46,
   "id": "69654ef7-d6f8-4202-bfb3-211e199a759d",
   "metadata": {},
   "outputs": [
    {
     "name": "stdout",
     "output_type": "stream",
     "text": [
      "training samples: 80\n",
      "testing samples: 20\n"
     ]
    }
   ],
   "source": [
    "X_train, X_test, y_train, y_test = train_test_split(X, y, test_size=0.2, random_state=42)\n",
    "print(f\"training samples: {X_train.shape[0]}\")\n",
    "print(f\"testing samples: {X_test.shape[0]}\")"
   ]
  },
  {
   "cell_type": "code",
   "execution_count": 47,
   "id": "903a7f6c-2040-4952-a6b0-c5e2cb79494a",
   "metadata": {},
   "outputs": [],
   "source": [
    "# train naive bayes model"
   ]
  },
  {
   "cell_type": "code",
   "execution_count": 48,
   "id": "bd11f1a7-5e4d-4df7-aeb5-7f70946960d3",
   "metadata": {},
   "outputs": [
    {
     "data": {
      "text/html": [
       "<style>#sk-container-id-2 {\n",
       "  /* Definition of color scheme common for light and dark mode */\n",
       "  --sklearn-color-text: black;\n",
       "  --sklearn-color-line: gray;\n",
       "  /* Definition of color scheme for unfitted estimators */\n",
       "  --sklearn-color-unfitted-level-0: #fff5e6;\n",
       "  --sklearn-color-unfitted-level-1: #f6e4d2;\n",
       "  --sklearn-color-unfitted-level-2: #ffe0b3;\n",
       "  --sklearn-color-unfitted-level-3: chocolate;\n",
       "  /* Definition of color scheme for fitted estimators */\n",
       "  --sklearn-color-fitted-level-0: #f0f8ff;\n",
       "  --sklearn-color-fitted-level-1: #d4ebff;\n",
       "  --sklearn-color-fitted-level-2: #b3dbfd;\n",
       "  --sklearn-color-fitted-level-3: cornflowerblue;\n",
       "\n",
       "  /* Specific color for light theme */\n",
       "  --sklearn-color-text-on-default-background: var(--sg-text-color, var(--theme-code-foreground, var(--jp-content-font-color1, black)));\n",
       "  --sklearn-color-background: var(--sg-background-color, var(--theme-background, var(--jp-layout-color0, white)));\n",
       "  --sklearn-color-border-box: var(--sg-text-color, var(--theme-code-foreground, var(--jp-content-font-color1, black)));\n",
       "  --sklearn-color-icon: #696969;\n",
       "\n",
       "  @media (prefers-color-scheme: dark) {\n",
       "    /* Redefinition of color scheme for dark theme */\n",
       "    --sklearn-color-text-on-default-background: var(--sg-text-color, var(--theme-code-foreground, var(--jp-content-font-color1, white)));\n",
       "    --sklearn-color-background: var(--sg-background-color, var(--theme-background, var(--jp-layout-color0, #111)));\n",
       "    --sklearn-color-border-box: var(--sg-text-color, var(--theme-code-foreground, var(--jp-content-font-color1, white)));\n",
       "    --sklearn-color-icon: #878787;\n",
       "  }\n",
       "}\n",
       "\n",
       "#sk-container-id-2 {\n",
       "  color: var(--sklearn-color-text);\n",
       "}\n",
       "\n",
       "#sk-container-id-2 pre {\n",
       "  padding: 0;\n",
       "}\n",
       "\n",
       "#sk-container-id-2 input.sk-hidden--visually {\n",
       "  border: 0;\n",
       "  clip: rect(1px 1px 1px 1px);\n",
       "  clip: rect(1px, 1px, 1px, 1px);\n",
       "  height: 1px;\n",
       "  margin: -1px;\n",
       "  overflow: hidden;\n",
       "  padding: 0;\n",
       "  position: absolute;\n",
       "  width: 1px;\n",
       "}\n",
       "\n",
       "#sk-container-id-2 div.sk-dashed-wrapped {\n",
       "  border: 1px dashed var(--sklearn-color-line);\n",
       "  margin: 0 0.4em 0.5em 0.4em;\n",
       "  box-sizing: border-box;\n",
       "  padding-bottom: 0.4em;\n",
       "  background-color: var(--sklearn-color-background);\n",
       "}\n",
       "\n",
       "#sk-container-id-2 div.sk-container {\n",
       "  /* jupyter's `normalize.less` sets `[hidden] { display: none; }`\n",
       "     but bootstrap.min.css set `[hidden] { display: none !important; }`\n",
       "     so we also need the `!important` here to be able to override the\n",
       "     default hidden behavior on the sphinx rendered scikit-learn.org.\n",
       "     See: https://github.com/scikit-learn/scikit-learn/issues/21755 */\n",
       "  display: inline-block !important;\n",
       "  position: relative;\n",
       "}\n",
       "\n",
       "#sk-container-id-2 div.sk-text-repr-fallback {\n",
       "  display: none;\n",
       "}\n",
       "\n",
       "div.sk-parallel-item,\n",
       "div.sk-serial,\n",
       "div.sk-item {\n",
       "  /* draw centered vertical line to link estimators */\n",
       "  background-image: linear-gradient(var(--sklearn-color-text-on-default-background), var(--sklearn-color-text-on-default-background));\n",
       "  background-size: 2px 100%;\n",
       "  background-repeat: no-repeat;\n",
       "  background-position: center center;\n",
       "}\n",
       "\n",
       "/* Parallel-specific style estimator block */\n",
       "\n",
       "#sk-container-id-2 div.sk-parallel-item::after {\n",
       "  content: \"\";\n",
       "  width: 100%;\n",
       "  border-bottom: 2px solid var(--sklearn-color-text-on-default-background);\n",
       "  flex-grow: 1;\n",
       "}\n",
       "\n",
       "#sk-container-id-2 div.sk-parallel {\n",
       "  display: flex;\n",
       "  align-items: stretch;\n",
       "  justify-content: center;\n",
       "  background-color: var(--sklearn-color-background);\n",
       "  position: relative;\n",
       "}\n",
       "\n",
       "#sk-container-id-2 div.sk-parallel-item {\n",
       "  display: flex;\n",
       "  flex-direction: column;\n",
       "}\n",
       "\n",
       "#sk-container-id-2 div.sk-parallel-item:first-child::after {\n",
       "  align-self: flex-end;\n",
       "  width: 50%;\n",
       "}\n",
       "\n",
       "#sk-container-id-2 div.sk-parallel-item:last-child::after {\n",
       "  align-self: flex-start;\n",
       "  width: 50%;\n",
       "}\n",
       "\n",
       "#sk-container-id-2 div.sk-parallel-item:only-child::after {\n",
       "  width: 0;\n",
       "}\n",
       "\n",
       "/* Serial-specific style estimator block */\n",
       "\n",
       "#sk-container-id-2 div.sk-serial {\n",
       "  display: flex;\n",
       "  flex-direction: column;\n",
       "  align-items: center;\n",
       "  background-color: var(--sklearn-color-background);\n",
       "  padding-right: 1em;\n",
       "  padding-left: 1em;\n",
       "}\n",
       "\n",
       "\n",
       "/* Toggleable style: style used for estimator/Pipeline/ColumnTransformer box that is\n",
       "clickable and can be expanded/collapsed.\n",
       "- Pipeline and ColumnTransformer use this feature and define the default style\n",
       "- Estimators will overwrite some part of the style using the `sk-estimator` class\n",
       "*/\n",
       "\n",
       "/* Pipeline and ColumnTransformer style (default) */\n",
       "\n",
       "#sk-container-id-2 div.sk-toggleable {\n",
       "  /* Default theme specific background. It is overwritten whether we have a\n",
       "  specific estimator or a Pipeline/ColumnTransformer */\n",
       "  background-color: var(--sklearn-color-background);\n",
       "}\n",
       "\n",
       "/* Toggleable label */\n",
       "#sk-container-id-2 label.sk-toggleable__label {\n",
       "  cursor: pointer;\n",
       "  display: block;\n",
       "  width: 100%;\n",
       "  margin-bottom: 0;\n",
       "  padding: 0.5em;\n",
       "  box-sizing: border-box;\n",
       "  text-align: center;\n",
       "}\n",
       "\n",
       "#sk-container-id-2 label.sk-toggleable__label-arrow:before {\n",
       "  /* Arrow on the left of the label */\n",
       "  content: \"▸\";\n",
       "  float: left;\n",
       "  margin-right: 0.25em;\n",
       "  color: var(--sklearn-color-icon);\n",
       "}\n",
       "\n",
       "#sk-container-id-2 label.sk-toggleable__label-arrow:hover:before {\n",
       "  color: var(--sklearn-color-text);\n",
       "}\n",
       "\n",
       "/* Toggleable content - dropdown */\n",
       "\n",
       "#sk-container-id-2 div.sk-toggleable__content {\n",
       "  max-height: 0;\n",
       "  max-width: 0;\n",
       "  overflow: hidden;\n",
       "  text-align: left;\n",
       "  /* unfitted */\n",
       "  background-color: var(--sklearn-color-unfitted-level-0);\n",
       "}\n",
       "\n",
       "#sk-container-id-2 div.sk-toggleable__content.fitted {\n",
       "  /* fitted */\n",
       "  background-color: var(--sklearn-color-fitted-level-0);\n",
       "}\n",
       "\n",
       "#sk-container-id-2 div.sk-toggleable__content pre {\n",
       "  margin: 0.2em;\n",
       "  border-radius: 0.25em;\n",
       "  color: var(--sklearn-color-text);\n",
       "  /* unfitted */\n",
       "  background-color: var(--sklearn-color-unfitted-level-0);\n",
       "}\n",
       "\n",
       "#sk-container-id-2 div.sk-toggleable__content.fitted pre {\n",
       "  /* unfitted */\n",
       "  background-color: var(--sklearn-color-fitted-level-0);\n",
       "}\n",
       "\n",
       "#sk-container-id-2 input.sk-toggleable__control:checked~div.sk-toggleable__content {\n",
       "  /* Expand drop-down */\n",
       "  max-height: 200px;\n",
       "  max-width: 100%;\n",
       "  overflow: auto;\n",
       "}\n",
       "\n",
       "#sk-container-id-2 input.sk-toggleable__control:checked~label.sk-toggleable__label-arrow:before {\n",
       "  content: \"▾\";\n",
       "}\n",
       "\n",
       "/* Pipeline/ColumnTransformer-specific style */\n",
       "\n",
       "#sk-container-id-2 div.sk-label input.sk-toggleable__control:checked~label.sk-toggleable__label {\n",
       "  color: var(--sklearn-color-text);\n",
       "  background-color: var(--sklearn-color-unfitted-level-2);\n",
       "}\n",
       "\n",
       "#sk-container-id-2 div.sk-label.fitted input.sk-toggleable__control:checked~label.sk-toggleable__label {\n",
       "  background-color: var(--sklearn-color-fitted-level-2);\n",
       "}\n",
       "\n",
       "/* Estimator-specific style */\n",
       "\n",
       "/* Colorize estimator box */\n",
       "#sk-container-id-2 div.sk-estimator input.sk-toggleable__control:checked~label.sk-toggleable__label {\n",
       "  /* unfitted */\n",
       "  background-color: var(--sklearn-color-unfitted-level-2);\n",
       "}\n",
       "\n",
       "#sk-container-id-2 div.sk-estimator.fitted input.sk-toggleable__control:checked~label.sk-toggleable__label {\n",
       "  /* fitted */\n",
       "  background-color: var(--sklearn-color-fitted-level-2);\n",
       "}\n",
       "\n",
       "#sk-container-id-2 div.sk-label label.sk-toggleable__label,\n",
       "#sk-container-id-2 div.sk-label label {\n",
       "  /* The background is the default theme color */\n",
       "  color: var(--sklearn-color-text-on-default-background);\n",
       "}\n",
       "\n",
       "/* On hover, darken the color of the background */\n",
       "#sk-container-id-2 div.sk-label:hover label.sk-toggleable__label {\n",
       "  color: var(--sklearn-color-text);\n",
       "  background-color: var(--sklearn-color-unfitted-level-2);\n",
       "}\n",
       "\n",
       "/* Label box, darken color on hover, fitted */\n",
       "#sk-container-id-2 div.sk-label.fitted:hover label.sk-toggleable__label.fitted {\n",
       "  color: var(--sklearn-color-text);\n",
       "  background-color: var(--sklearn-color-fitted-level-2);\n",
       "}\n",
       "\n",
       "/* Estimator label */\n",
       "\n",
       "#sk-container-id-2 div.sk-label label {\n",
       "  font-family: monospace;\n",
       "  font-weight: bold;\n",
       "  display: inline-block;\n",
       "  line-height: 1.2em;\n",
       "}\n",
       "\n",
       "#sk-container-id-2 div.sk-label-container {\n",
       "  text-align: center;\n",
       "}\n",
       "\n",
       "/* Estimator-specific */\n",
       "#sk-container-id-2 div.sk-estimator {\n",
       "  font-family: monospace;\n",
       "  border: 1px dotted var(--sklearn-color-border-box);\n",
       "  border-radius: 0.25em;\n",
       "  box-sizing: border-box;\n",
       "  margin-bottom: 0.5em;\n",
       "  /* unfitted */\n",
       "  background-color: var(--sklearn-color-unfitted-level-0);\n",
       "}\n",
       "\n",
       "#sk-container-id-2 div.sk-estimator.fitted {\n",
       "  /* fitted */\n",
       "  background-color: var(--sklearn-color-fitted-level-0);\n",
       "}\n",
       "\n",
       "/* on hover */\n",
       "#sk-container-id-2 div.sk-estimator:hover {\n",
       "  /* unfitted */\n",
       "  background-color: var(--sklearn-color-unfitted-level-2);\n",
       "}\n",
       "\n",
       "#sk-container-id-2 div.sk-estimator.fitted:hover {\n",
       "  /* fitted */\n",
       "  background-color: var(--sklearn-color-fitted-level-2);\n",
       "}\n",
       "\n",
       "/* Specification for estimator info (e.g. \"i\" and \"?\") */\n",
       "\n",
       "/* Common style for \"i\" and \"?\" */\n",
       "\n",
       ".sk-estimator-doc-link,\n",
       "a:link.sk-estimator-doc-link,\n",
       "a:visited.sk-estimator-doc-link {\n",
       "  float: right;\n",
       "  font-size: smaller;\n",
       "  line-height: 1em;\n",
       "  font-family: monospace;\n",
       "  background-color: var(--sklearn-color-background);\n",
       "  border-radius: 1em;\n",
       "  height: 1em;\n",
       "  width: 1em;\n",
       "  text-decoration: none !important;\n",
       "  margin-left: 1ex;\n",
       "  /* unfitted */\n",
       "  border: var(--sklearn-color-unfitted-level-1) 1pt solid;\n",
       "  color: var(--sklearn-color-unfitted-level-1);\n",
       "}\n",
       "\n",
       ".sk-estimator-doc-link.fitted,\n",
       "a:link.sk-estimator-doc-link.fitted,\n",
       "a:visited.sk-estimator-doc-link.fitted {\n",
       "  /* fitted */\n",
       "  border: var(--sklearn-color-fitted-level-1) 1pt solid;\n",
       "  color: var(--sklearn-color-fitted-level-1);\n",
       "}\n",
       "\n",
       "/* On hover */\n",
       "div.sk-estimator:hover .sk-estimator-doc-link:hover,\n",
       ".sk-estimator-doc-link:hover,\n",
       "div.sk-label-container:hover .sk-estimator-doc-link:hover,\n",
       ".sk-estimator-doc-link:hover {\n",
       "  /* unfitted */\n",
       "  background-color: var(--sklearn-color-unfitted-level-3);\n",
       "  color: var(--sklearn-color-background);\n",
       "  text-decoration: none;\n",
       "}\n",
       "\n",
       "div.sk-estimator.fitted:hover .sk-estimator-doc-link.fitted:hover,\n",
       ".sk-estimator-doc-link.fitted:hover,\n",
       "div.sk-label-container:hover .sk-estimator-doc-link.fitted:hover,\n",
       ".sk-estimator-doc-link.fitted:hover {\n",
       "  /* fitted */\n",
       "  background-color: var(--sklearn-color-fitted-level-3);\n",
       "  color: var(--sklearn-color-background);\n",
       "  text-decoration: none;\n",
       "}\n",
       "\n",
       "/* Span, style for the box shown on hovering the info icon */\n",
       ".sk-estimator-doc-link span {\n",
       "  display: none;\n",
       "  z-index: 9999;\n",
       "  position: relative;\n",
       "  font-weight: normal;\n",
       "  right: .2ex;\n",
       "  padding: .5ex;\n",
       "  margin: .5ex;\n",
       "  width: min-content;\n",
       "  min-width: 20ex;\n",
       "  max-width: 50ex;\n",
       "  color: var(--sklearn-color-text);\n",
       "  box-shadow: 2pt 2pt 4pt #999;\n",
       "  /* unfitted */\n",
       "  background: var(--sklearn-color-unfitted-level-0);\n",
       "  border: .5pt solid var(--sklearn-color-unfitted-level-3);\n",
       "}\n",
       "\n",
       ".sk-estimator-doc-link.fitted span {\n",
       "  /* fitted */\n",
       "  background: var(--sklearn-color-fitted-level-0);\n",
       "  border: var(--sklearn-color-fitted-level-3);\n",
       "}\n",
       "\n",
       ".sk-estimator-doc-link:hover span {\n",
       "  display: block;\n",
       "}\n",
       "\n",
       "/* \"?\"-specific style due to the `<a>` HTML tag */\n",
       "\n",
       "#sk-container-id-2 a.estimator_doc_link {\n",
       "  float: right;\n",
       "  font-size: 1rem;\n",
       "  line-height: 1em;\n",
       "  font-family: monospace;\n",
       "  background-color: var(--sklearn-color-background);\n",
       "  border-radius: 1rem;\n",
       "  height: 1rem;\n",
       "  width: 1rem;\n",
       "  text-decoration: none;\n",
       "  /* unfitted */\n",
       "  color: var(--sklearn-color-unfitted-level-1);\n",
       "  border: var(--sklearn-color-unfitted-level-1) 1pt solid;\n",
       "}\n",
       "\n",
       "#sk-container-id-2 a.estimator_doc_link.fitted {\n",
       "  /* fitted */\n",
       "  border: var(--sklearn-color-fitted-level-1) 1pt solid;\n",
       "  color: var(--sklearn-color-fitted-level-1);\n",
       "}\n",
       "\n",
       "/* On hover */\n",
       "#sk-container-id-2 a.estimator_doc_link:hover {\n",
       "  /* unfitted */\n",
       "  background-color: var(--sklearn-color-unfitted-level-3);\n",
       "  color: var(--sklearn-color-background);\n",
       "  text-decoration: none;\n",
       "}\n",
       "\n",
       "#sk-container-id-2 a.estimator_doc_link.fitted:hover {\n",
       "  /* fitted */\n",
       "  background-color: var(--sklearn-color-fitted-level-3);\n",
       "}\n",
       "</style><div id=\"sk-container-id-2\" class=\"sk-top-container\"><div class=\"sk-text-repr-fallback\"><pre>MultinomialNB()</pre><b>In a Jupyter environment, please rerun this cell to show the HTML representation or trust the notebook. <br />On GitHub, the HTML representation is unable to render, please try loading this page with nbviewer.org.</b></div><div class=\"sk-container\" hidden><div class=\"sk-item\"><div class=\"sk-estimator fitted sk-toggleable\"><input class=\"sk-toggleable__control sk-hidden--visually\" id=\"sk-estimator-id-2\" type=\"checkbox\" checked><label for=\"sk-estimator-id-2\" class=\"sk-toggleable__label fitted sk-toggleable__label-arrow fitted\">&nbsp;&nbsp;MultinomialNB<a class=\"sk-estimator-doc-link fitted\" rel=\"noreferrer\" target=\"_blank\" href=\"https://scikit-learn.org/1.5/modules/generated/sklearn.naive_bayes.MultinomialNB.html\">?<span>Documentation for MultinomialNB</span></a><span class=\"sk-estimator-doc-link fitted\">i<span>Fitted</span></span></label><div class=\"sk-toggleable__content fitted\"><pre>MultinomialNB()</pre></div> </div></div></div></div>"
      ],
      "text/plain": [
       "MultinomialNB()"
      ]
     },
     "execution_count": 48,
     "metadata": {},
     "output_type": "execute_result"
    }
   ],
   "source": [
    "nb_model = MultinomialNB()\n",
    "nb_model.fit(X_train, y_train)"
   ]
  },
  {
   "cell_type": "code",
   "execution_count": 49,
   "id": "a9c1ba6a-9196-4b6b-b9f8-7100ef9a0474",
   "metadata": {},
   "outputs": [],
   "source": [
    "# test NB"
   ]
  },
  {
   "cell_type": "code",
   "execution_count": 50,
   "id": "b3421584-d667-47e2-9d8e-8c6701e3d482",
   "metadata": {},
   "outputs": [
    {
     "name": "stdout",
     "output_type": "stream",
     "text": [
      "model accuracy: 100.0%\n"
     ]
    }
   ],
   "source": [
    "y_pred = nb_model.predict(X_test)\n",
    "accuracy = accuracy_score(y_test, y_pred)\n",
    "print(f\"model accuracy: {accuracy:.1%}\")"
   ]
  },
  {
   "cell_type": "code",
   "execution_count": 51,
   "id": "967ebf82-347a-44f0-8e42-349a57cfab47",
   "metadata": {},
   "outputs": [],
   "source": [
    "#function predict_review_sentiment(model, vectorizer, review)"
   ]
  },
  {
   "cell_type": "code",
   "execution_count": 54,
   "id": "069dafe8-4736-433e-b42e-a964df506b9e",
   "metadata": {},
   "outputs": [],
   "source": [
    "def predict_review_sentiment(model, vectorizer, review):\n",
    "    \n",
    "    review_numbers = vectorizer.transform([review]) # convert reviews to no.s\n",
    "    \n",
    "    prediction = model.predict(review_numbers)[0]\n",
    "    print(f\" prediction: {prediction}\")\n",
    "    \n",
    "    return prediction"
   ]
  },
  {
   "cell_type": "code",
   "execution_count": 55,
   "id": "7d520cab-399c-4658-8539-8d0685c59b46",
   "metadata": {},
   "outputs": [
    {
     "name": "stdout",
     "output_type": "stream",
     "text": [
      " prediction: positive\n"
     ]
    }
   ],
   "source": [
    "# test with new review\n",
    "test_review = \"this movie was fantastic and amazing\"\n",
    "predicted_sentiment = predict_review_sentiment(nb_model, vectorizer, test_review)"
   ]
  },
  {
   "cell_type": "markdown",
   "id": "ba4bd2a1-4927-4cf0-816b-461fd19f215f",
   "metadata": {},
   "source": [
    "## problem 5"
   ]
  },
  {
   "cell_type": "code",
   "execution_count": 56,
   "id": "b27a4b81-37ca-4821-bbeb-b30a44171a61",
   "metadata": {},
   "outputs": [],
   "source": [
    "# product feedback"
   ]
  },
  {
   "cell_type": "code",
   "execution_count": 57,
   "id": "df38e228-e983-4d17-8132-396090d8fb76",
   "metadata": {},
   "outputs": [],
   "source": [
    "good_base = [\n",
    "    \"great product excellent quality\", \"amazing service fast delivery\", \n",
    "    \"perfect item works well\", \"outstanding quality good value\",\n",
    "    \"excellent product fast shipping\", \"great experience good support\",\n",
    "    \"amazing quality perfect item\", \"outstanding service excellent product\",\n",
    "    \"perfect quality great value\", \"excellent service amazing product\"\n",
    "]"
   ]
  },
  {
   "cell_type": "code",
   "execution_count": 60,
   "id": "adb44cca-2719-4ef3-91ff-18a8dcff49b4",
   "metadata": {},
   "outputs": [],
   "source": [
    "bad_base = [\n",
    "    \"poor product terrible quality\", \"awful service slow delivery\",\n",
    "    \"defective item broken product\", \"poor quality bad value\", \n",
    "    \"terrible product slow shipping\", \"bad experience poor support\",\n",
    "    \"awful quality defective item\", \"poor service terrible product\",\n",
    "    \"defective quality poor value\", \"terrible service awful product\"\n",
    "]"
   ]
  },
  {
   "cell_type": "code",
   "execution_count": 62,
   "id": "d78572fa-512a-4068-be02-af09c6fb6782",
   "metadata": {},
   "outputs": [],
   "source": [
    "good_feedback = []\n",
    "bad_feedback = []\n",
    "\n",
    "for i in range(50):\n",
    "    good_feedback.append(good_base[i % len(good_base)])\n",
    "    bad_feedback.append(bad_base[i % len(bad_base)])"
   ]
  },
  {
   "cell_type": "code",
   "execution_count": 64,
   "id": "95fc3959-ba4e-4171-ac39-ac78353f1f3b",
   "metadata": {},
   "outputs": [
    {
     "name": "stdout",
     "output_type": "stream",
     "text": [
      "                                feedback label\n",
      "0        great product excellent quality  good\n",
      "1          amazing service fast delivery  good\n",
      "2                perfect item works well  good\n",
      "3         outstanding quality good value  good\n",
      "4        excellent product fast shipping  good\n",
      "5          great experience good support  good\n",
      "6           amazing quality perfect item  good\n",
      "7  outstanding service excellent product  good\n",
      "8            perfect quality great value  good\n",
      "9      excellent service amazing product  good\n"
     ]
    }
   ],
   "source": [
    "all_feedback = good_feedback + bad_feedback\n",
    "all_labels = ['good']* 50 + ['bad']* 50\n",
    "\n",
    "\n",
    "\n",
    "df_feedback = pd.DataFrame({\n",
    "    'feedback': all_feedback,\n",
    "    'label': all_labels\n",
    "})\n",
    "\n",
    "print(df_feedback.head(10))"
   ]
  },
  {
   "cell_type": "code",
   "execution_count": 66,
   "id": "726dbbfb-c0a2-4258-900c-8c26ac56d051",
   "metadata": {},
   "outputs": [
    {
     "name": "stdout",
     "output_type": "stream",
     "text": [
      "converted 100 feedback samples into 24 features\n"
     ]
    }
   ],
   "source": [
    "tfidf_vectorizer = TfidfVectorizer(max_features=300, stop_words='english', lowercase=True)\n",
    "X_tfidf = tfidf_vectorizer.fit_transform(df_feedback['feedback'])\n",
    "y_labels = df_feedback['label']\n",
    "\n",
    "\n",
    "print(f\"converted {len(df_feedback)} feedback samples into {X_tfidf.shape[1]} features\")"
   ]
  },
  {
   "cell_type": "code",
   "execution_count": 67,
   "id": "6cef1cb0-fe02-4be4-9d18-375a9e114c02",
   "metadata": {},
   "outputs": [],
   "source": [
    "# splitting data"
   ]
  },
  {
   "cell_type": "code",
   "execution_count": 68,
   "id": "9e0b70f6-7787-42a9-86c7-b7df2a7acd07",
   "metadata": {},
   "outputs": [
    {
     "name": "stdout",
     "output_type": "stream",
     "text": [
      "Training samples: 75\n",
      "Testing samples: 25\n"
     ]
    }
   ],
   "source": [
    "X_train_tfidf, X_test_tfidf, y_train_labels, y_test_labels = train_test_split(\n",
    "    X_tfidf, y_labels, test_size=0.25, random_state=42\n",
    ")\n",
    "print(f\"Training samples: {X_train_tfidf.shape[0]}\")  \n",
    "print(f\"Testing samples: {X_test_tfidf.shape[0]}\")   "
   ]
  },
  {
   "cell_type": "code",
   "execution_count": 69,
   "id": "4dead536-ff4a-4803-bd98-5201dd37712c",
   "metadata": {},
   "outputs": [],
   "source": [
    "# logistic regression"
   ]
  },
  {
   "cell_type": "code",
   "execution_count": 70,
   "id": "eaeee4d6-4196-4a9b-800a-0dee1515dcf0",
   "metadata": {},
   "outputs": [],
   "source": [
    "lr_model = LogisticRegression(random_state=42)\n",
    "lr_model.fit(X_train_tfidf, y_train_labels)\n",
    "\n",
    "# test model\n",
    "y_pred_labels = lr_model.predict(X_test_tfidf)"
   ]
  },
  {
   "cell_type": "code",
   "execution_count": 71,
   "id": "aa74e406-55f4-4e82-86d9-861160d26349",
   "metadata": {},
   "outputs": [],
   "source": [
    "precision = precision_score(y_test_labels, y_pred_labels, pos_label='good')\n",
    "recall = recall_score(y_test_labels, y_pred_labels, pos_label='good')\n",
    "f1 = f1_score(y_test_labels, y_pred_labels, pos_label='good')"
   ]
  },
  {
   "cell_type": "code",
   "execution_count": 72,
   "id": "1e21bc8e-b135-4846-866c-2c193122fd66",
   "metadata": {},
   "outputs": [
    {
     "name": "stdout",
     "output_type": "stream",
     "text": [
      "precision: 1.000\n",
      "recall: 1.000\n",
      "f1 score: 1.000 \n"
     ]
    }
   ],
   "source": [
    "print(f\"precision: {precision:.3f}\")\n",
    "print(f\"recall: {recall:.3f}\")\n",
    "print(f\"f1 score: {f1:.3f} \")"
   ]
  },
  {
   "cell_type": "code",
   "execution_count": 77,
   "id": "bdfde511-df45-41ad-bee6-2b2f2d04d768",
   "metadata": {},
   "outputs": [],
   "source": [
    "# function text_preprocess_vectorize(texts, vectorizer) "
   ]
  },
  {
   "cell_type": "code",
   "execution_count": 79,
   "id": "6d5e9a56-feef-4fc3-b399-87d69232e5bc",
   "metadata": {},
   "outputs": [],
   "source": [
    "def text_preprocess_vectorize(texts, vectorizer):\n",
    "    \n",
    "    feature_matrix = vectorizer.transform(texts)\n",
    "    \n",
    "    print(f\"created matrix with shape: {feature_matrix.shape}\")\n",
    "    return feature_matrix"
   ]
  },
  {
   "cell_type": "code",
   "execution_count": 80,
   "id": "de3c7f73-7567-4727-8c7f-53cabd9a7a09",
   "metadata": {},
   "outputs": [
    {
     "name": "stdout",
     "output_type": "stream",
     "text": [
      "created matrix with shape: (2, 24)\n"
     ]
    }
   ],
   "source": [
    "# test\n",
    "test_texts = [\"great product amazing quality\", \"terrible item poor service\"]\n",
    "feature_matrix = text_preprocess_vectorize(test_texts, tfidf_vectorizer)"
   ]
  },
  {
   "cell_type": "code",
   "execution_count": 81,
   "id": "0698d4d7-5061-4800-ab8e-d3cd21e8c9c5",
   "metadata": {},
   "outputs": [
    {
     "name": "stdout",
     "output_type": "stream",
     "text": [
      "Test predictions:\n",
      "'great product amazing quality' -> good\n",
      "'terrible item poor service' -> bad\n"
     ]
    }
   ],
   "source": [
    "# tst predictions on new texts\n",
    "test_predictions = lr_model.predict(feature_matrix)\n",
    "print(\"Test predictions:\")\n",
    "for i, text in enumerate(test_texts):\n",
    "    print(f\"'{text}' -> {test_predictions[i]}\")"
   ]
  },
  {
   "cell_type": "code",
   "execution_count": null,
   "id": "25ec87b9-63c7-4171-b35b-cbd5fd57bfe8",
   "metadata": {},
   "outputs": [],
   "source": []
  }
 ],
 "metadata": {
  "kernelspec": {
   "display_name": "Python 3 (ipykernel)",
   "language": "python",
   "name": "python3"
  },
  "language_info": {
   "codemirror_mode": {
    "name": "ipython",
    "version": 3
   },
   "file_extension": ".py",
   "mimetype": "text/x-python",
   "name": "python",
   "nbconvert_exporter": "python",
   "pygments_lexer": "ipython3",
   "version": "3.12.7"
  }
 },
 "nbformat": 4,
 "nbformat_minor": 5
}
